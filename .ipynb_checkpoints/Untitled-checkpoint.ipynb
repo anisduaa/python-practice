{
 "cells": [
  {
   "cell_type": "code",
   "execution_count": 1,
   "id": "b079d06a",
   "metadata": {},
   "outputs": [
    {
     "name": "stdout",
     "output_type": "stream",
     "text": [
      "17\n"
     ]
    }
   ],
   "source": [
    "print(2*4+9)"
   ]
  },
  {
   "cell_type": "code",
   "execution_count": 4,
   "id": "7c43c354",
   "metadata": {},
   "outputs": [
    {
     "name": "stdout",
     "output_type": "stream",
     "text": [
      "Lorem Ipsum is simply dummy text of the printing and typesetting industry. Lorem Ipsum has been the industry's standard dummy text ever since the 1500s, when an unknown printer took a galley of type and scrambled it to make a type specimen book. It has survived not only five centuries, but also the leap into electronic typesetting, remaining essentially unchanged. It was popularised in the 1960s with the release of Letraset sheets containing Lorem Ipsum passages,\n"
     ]
    }
   ],
   "source": [
    "print('''Lorem Ipsum is simply dummy text of the printing and typesetting industry. Lorem Ipsum has been the industry's standard dummy text ever since the 1500s, when an unknown printer took a galley of type and scrambled it to make a type specimen book. It has survived not only five centuries, but also the leap into electronic typesetting, remaining essentially unchanged. It was popularised in the 1960s with the release of Letraset sheets containing Lorem Ipsum passages,''')"
   ]
  },
  {
   "cell_type": "code",
   "execution_count": 10,
   "id": "8bca9e25",
   "metadata": {
    "scrolled": true
   },
   "outputs": [
    {
     "name": "stdout",
     "output_type": "stream",
     "text": [
      "('duaa',) (455,) (45.67,)\n"
     ]
    }
   ],
   "source": [
    "a = \"duaa\",\n",
    "b = 455,\n",
    "c = 45.67,\n",
    "print(a,b,c)"
   ]
  },
  {
   "cell_type": "code",
   "execution_count": 16,
   "id": "cfc821cc",
   "metadata": {},
   "outputs": [
    {
     "data": {
      "text/plain": [
       "455"
      ]
     },
     "execution_count": 16,
     "metadata": {},
     "output_type": "execute_result"
    }
   ],
   "source": [
    "a = \"duaa\"\n",
    "b = 455\n",
    "c = 45.67\n",
    "b"
   ]
  },
  {
   "cell_type": "code",
   "execution_count": 21,
   "id": "b9a5fdab",
   "metadata": {},
   "outputs": [
    {
     "name": "stdout",
     "output_type": "stream",
     "text": [
      "thie number 34+43 number plus 77\n",
      "thie number 34+43 number plus -9\n",
      "thie number 34+43 number plus 1462\n",
      "thie number 34+43 number plus 0.7906976744186046\n"
     ]
    }
   ],
   "source": [
    "a = 34\n",
    "b = 43\n",
    "print(\"thie number 34+43 number plus\", 34+43)\n",
    "print(\"thie number 34+43 number plus\", 34-43)\n",
    "print(\"thie number 34+43 number plus\", 34*43)\n",
    "print(\"thie number 34+43 number plus\", 34/43)"
   ]
  },
  {
   "cell_type": "code",
   "execution_count": 25,
   "id": "e9f8a9f5",
   "metadata": {},
   "outputs": [
    {
     "name": "stdout",
     "output_type": "stream",
     "text": [
      "50 40 225\n"
     ]
    }
   ],
   "source": [
    "a = 45\n",
    "a += 5\n",
    "b = 45\n",
    "b -= 5\n",
    "c = 45\n",
    "c *= 5\n",
    "a = 45\n",
    "a /= 5\n",
    "print(a,b,c,d)"
   ]
  },
  {
   "cell_type": "code",
   "execution_count": null,
   "id": "3266037d",
   "metadata": {},
   "outputs": [],
   "source": []
  }
 ],
 "metadata": {
  "kernelspec": {
   "display_name": "Python 3 (ipykernel)",
   "language": "python",
   "name": "python3"
  },
  "language_info": {
   "codemirror_mode": {
    "name": "ipython",
    "version": 3
   },
   "file_extension": ".py",
   "mimetype": "text/x-python",
   "name": "python",
   "nbconvert_exporter": "python",
   "pygments_lexer": "ipython3",
   "version": "3.9.12"
  }
 },
 "nbformat": 4,
 "nbformat_minor": 5
}
