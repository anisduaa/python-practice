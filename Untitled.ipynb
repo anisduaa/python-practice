{
 "cells": [
  {
   "cell_type": "code",
   "execution_count": 3,
   "id": "af5abe2a",
   "metadata": {},
   "outputs": [
    {
     "name": "stdout",
     "output_type": "stream",
     "text": [
      "Lorem Ipsum is simply dummy text of the printing and typesetting industry. Lorem Ipsum has been the industry's standard dummy text ever since the 1500s, when an unknown printer took a galley of type and scrambled it to make a type specimen book. It has survived not only five centuries, but also the leap into electronic typesetting, remaining essentially unchanged. It was popularised in the 1960s with the release of Letraset sheets containing Lorem Ipsum passages,\n"
     ]
    }
   ],
   "source": [
    "print('''Lorem Ipsum is simply dummy text of the printing and typesetting industry. Lorem Ipsum has been the industry's standard dummy text ever since the 1500s, when an unknown printer took a galley of type and scrambled it to make a type specimen book. It has survived not only five centuries, but also the leap into electronic typesetting, remaining essentially unchanged. It was popularised in the 1960s with the release of Letraset sheets containing Lorem Ipsum passages,''')"
   ]
  },
  {
   "cell_type": "code",
   "execution_count": null,
   "id": "a755768c",
   "metadata": {},
   "outputs": [],
   "source": [
    "a = \"duaa\",\n",
    "b = 455,\n",
    "c = 45.67,\n",
    "print(a,b,c)"
   ]
  },
  {
   "cell_type": "code",
   "execution_count": 16,
   "id": "deca1a1b",
   "metadata": {},
   "outputs": [
    {
     "data": {
      "text/plain": [
       "455"
      ]
     },
     "execution_count": 16,
     "metadata": {},
     "output_type": "execute_result"
    }
   ],
   "source": [
    "a = \"duaa\"\n",
    "b = 455\n",
    "c = 45.67\n",
    "b"
   ]
  },
  {
   "cell_type": "code",
   "execution_count": 21,
   "id": "e860680b",
   "metadata": {},
   "outputs": [
    {
     "name": "stdout",
     "output_type": "stream",
     "text": [
      "thie number 34+43 number plus 77\n",
      "thie number 34+43 number plus -9\n",
      "thie number 34+43 number plus 1462\n",
      "thie number 34+43 number plus 0.7906976744186046\n"
     ]
    }
   ],
   "source": [
    "a = 34\n",
    "b = 43\n",
    "print(\"thie number 34+43 number plus\", 34+43)\n",
    "print(\"thie number 34+43 number plus\", 34-43)\n",
    "print(\"thie number 34+43 number plus\", 34*43)\n",
    "print(\"thie number 34+43 number plus\", 34/43)"
   ]
  },
  {
   "cell_type": "code",
   "execution_count": 27,
   "id": "f23f0fe4",
   "metadata": {},
   "outputs": [
    {
     "name": "stdout",
     "output_type": "stream",
     "text": [
      "50 40 225 9.0\n"
     ]
    }
   ],
   "source": [
    "a = 45\n",
    "a += 5\n",
    "b = 45\n",
    "b -= 5\n",
    "c = 45\n",
    "c *= 5\n",
    "d = 45\n",
    "d /= 5\n",
    "print(a,b,c,d)"
   ]
  },
  {
   "cell_type": "code",
   "execution_count": 33,
   "id": "99221b4c",
   "metadata": {},
   "outputs": [
    {
     "name": "stdout",
     "output_type": "stream",
     "text": [
      "True\n"
     ]
    }
   ],
   "source": [
    "b = (3!=5)\n",
    "print(b)"
   ]
  },
  {
   "cell_type": "code",
   "execution_count": 39,
   "id": "aefb45b8",
   "metadata": {},
   "outputs": [
    {
     "name": "stdout",
     "output_type": "stream",
     "text": [
      "this is boolen False\n"
     ]
    }
   ],
   "source": [
    "bool1 = True\n",
    "bool2 = False\n",
    "print(\"this is boolen\", bool1 and bool2)"
   ]
  },
  {
   "cell_type": "code",
   "execution_count": 44,
   "id": "35af56e1",
   "metadata": {},
   "outputs": [
    {
     "name": "stdout",
     "output_type": "stream",
     "text": [
      "23\n"
     ]
    }
   ],
   "source": [
    "a = \"23\"\n",
    "a = int(23)\n",
    "print(a)"
   ]
  },
  {
   "cell_type": "code",
   "execution_count": 45,
   "id": "9121d558",
   "metadata": {},
   "outputs": [
    {
     "name": "stdout",
     "output_type": "stream",
     "text": [
      "Enter your name:duaa anis\n",
      "duaa anis\n"
     ]
    }
   ],
   "source": [
    "a = input(\"Enter your name:\")\n",
    "print(a)"
   ]
  },
  {
   "cell_type": "code",
   "execution_count": 46,
   "id": "9892d703",
   "metadata": {},
   "outputs": [
    {
     "name": "stdout",
     "output_type": "stream",
     "text": [
      "this number plus 68\n"
     ]
    }
   ],
   "source": [
    "duaa = 23\n",
    "anis = 45\n",
    "print(\"this number plus\", 23 + 45)"
   ]
  },
  {
   "cell_type": "code",
   "execution_count": 50,
   "id": "ffe6ec75",
   "metadata": {},
   "outputs": [
    {
     "name": "stdout",
     "output_type": "stream",
     "text": [
      "this number plus 8\n"
     ]
    }
   ],
   "source": [
    "duaa = 458\n",
    "anis = 15\n",
    "print(\"this number plus\", duaa%anis)"
   ]
  },
  {
   "cell_type": "code",
   "execution_count": 2,
   "id": "adf0cdf7",
   "metadata": {},
   "outputs": [
    {
     "name": "stdout",
     "output_type": "stream",
     "text": [
      "Enter your first name: 3\n",
      "Enter your scond name: 4\n",
      "result 3.5\n"
     ]
    }
   ],
   "source": [
    "a = input(\"Enter your first name: \")\n",
    "b = input(\"Enter your scond name: \")\n",
    "a = int(a)\n",
    "b = int(b)\n",
    "hello = (a + b)/2\n",
    "print(\"result\", hello)"
   ]
  },
  {
   "cell_type": "code",
   "execution_count": null,
   "id": "9fe19cfc",
   "metadata": {},
   "outputs": [],
   "source": []
  },
  {
   "cell_type": "code",
   "execution_count": null,
   "id": "f81e35b9",
   "metadata": {},
   "outputs": [],
   "source": [
    "\n"
   ]
  }
 ],
 "metadata": {
  "kernelspec": {
   "display_name": "Python 3 (ipykernel)",
   "language": "python",
   "name": "python3"
  },
  "language_info": {
   "codemirror_mode": {
    "name": "ipython",
    "version": 3
   },
   "file_extension": ".py",
   "mimetype": "text/x-python",
   "name": "python",
   "nbconvert_exporter": "python",
   "pygments_lexer": "ipython3",
   "version": "3.9.12"
  }
 },
 "nbformat": 4,
 "nbformat_minor": 5
}
